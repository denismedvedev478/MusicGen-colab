{
  "cells": [
    {
      "cell_type": "markdown",
      "metadata": {
        "id": "view-in-github"
      },
      "source": [
        "[![Open In Colab](https://colab.research.google.com/assets/colab-badge.svg)](https://colab.research.google.com/github/camenduru/MusicGen-colab/blob/main/MusicGen_ClownOfMadness_plus_colab.ipynb)"
      ]
    },
    {
      "cell_type": "code",
      "execution_count": null,
      "metadata": {},
      "outputs": [],
      "source": [
        "%cd /content\n",
        "!git clone -b plus https://github.com/ClownOfMadness/audiocraft_plus\n",
        "%cd /content/audiocraft_plus\n",
        "!pip install -r requirements.txt\n",
        "!python app.py --share"
      ]
    },
    {"cell_type": "markdown",
    "source": [
        "Here is the solution for 'TypeError: can only concatenate str (not \"NoneType\") to str' problem\n",
        "\n",
        "(https://github.com/GrandaddyShmax/audiocraft_plus/issues/50)"
    ],
    "metadata": {
      "id":"eDpPZWF7bUpT"
    }
    },
    {
      "cell_type": "code",
      "execution_count": null,
      "metadata": {},
      "outputs": [],
      "source": [
        "%cd /content\n",
        "!git clone -b plus https://github.com/ClownOfMadness/audiocraft_plus\n",
        "%cd /content/audiocraft_plus\n",
        "!pip install -r requirements.txt\n",
        "!pip install pip install gradio_client==0.6.0\n",
        "!python app.py --share"
      ]
    }
  ],
  "metadata": {
    "accelerator": "GPU",
    "colab": {
      "gpuType": "T4",
      "provenance": []
    },
    "kernelspec": {
      "display_name": "Python 3",
      "name": "python3"
    },
    "language_info": {
      "name": "python"
    }
  },
  "nbformat": 4,
  "nbformat_minor": 0
}
